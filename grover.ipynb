{
 "cells": [
  {
   "cell_type": "code",
   "execution_count": 14,
   "metadata": {},
   "outputs": [],
   "source": [
    "#initialization\n",
    "import matplotlib.pyplot as plt\n",
    "%matplotlib inline\n",
    "import numpy as np\n",
    "\n",
    "# importing Qiskit\n",
    "from qiskit import IBMQ, BasicAer\n",
    "from qiskit.providers.ibmq import least_busy\n",
    "from qiskit import QuantumCircuit, ClassicalRegister, QuantumRegister, execute\n",
    "\n",
    "# import basic plot tools\n",
    "from qiskit.tools.visualization import plot_histogram\n"
   ]
  },
  {
   "cell_type": "code",
   "execution_count": 15,
   "metadata": {},
   "outputs": [],
   "source": [
    "def phase_oracle(circuit, register):\n",
    "    circuit.cz(qr[2],qr[0])\n",
    "    circuit.cz(qr[2],qr[1])\n"
   ]
  },
  {
   "cell_type": "code",
   "execution_count": 16,
   "metadata": {},
   "outputs": [],
   "source": [
    "def n_controlled_Z(circuit, controls, target):\n",
    "    \"\"\"Implement a Z gate with multiple controls\"\"\"\n",
    "    if (len(controls) > 2):\n",
    "        raise ValueError('The controlled Z with more than 2 controls is not implemented')\n",
    "    elif (len(controls) == 1):\n",
    "        circuit.h(target)\n",
    "        circuit.cx(controls[0], target)\n",
    "        circuit.h(target)\n",
    "    elif (len(controls) == 2):\n",
    "        circuit.h(target)\n",
    "        circuit.ccx(controls[0], controls[1], target)\n",
    "        circuit.h(target)"
   ]
  },
  {
   "cell_type": "code",
   "execution_count": 17,
   "metadata": {},
   "outputs": [],
   "source": [
    "def inversion_about_average(circuit, register, n, barriers):\n",
    "    \"\"\"Apply inversion about the average step of Grover's algorithm.\"\"\"\n",
    "    circuit.h(register)\n",
    "    circuit.x(register)\n",
    "    \n",
    "    if barriers:\n",
    "        circuit.barrier()\n",
    "    \n",
    "    n_controlled_Z(circuit, [register[j] for j in range(n-1)], register[n-1])\n",
    "    \n",
    "    if barriers:\n",
    "        circuit.barrier()\n",
    "    \n",
    "    circuit.x(register)\n",
    "    circuit.h(register)\n"
   ]
  },
  {
   "cell_type": "code",
   "execution_count": 19,
   "metadata": {},
   "outputs": [
    {
     "data": {
      "text/plain": [
       "<qiskit.circuit.instructionset.InstructionSet at 0x123dac898>"
      ]
     },
     "execution_count": 19,
     "metadata": {},
     "output_type": "execute_result"
    }
   ],
   "source": [
    "barriers = True\n",
    "\n",
    "qr = QuantumRegister(3)\n",
    "cr = ClassicalRegister(3)\n",
    "\n",
    "groverCircuit = QuantumCircuit(qr,cr)\n",
    "groverCircuit.h(qr)\n",
    "\n",
    "if barriers:\n",
    "    groverCircuit.barrier()\n",
    "\n",
    "phase_oracle(groverCircuit, qr)\n",
    "\n",
    "if barriers:\n",
    "    groverCircuit.barrier()\n",
    "\n",
    "inversion_about_average(groverCircuit, qr, 3, barriers)\n",
    "\n",
    "if barriers:\n",
    "    groverCircuit.barrier()\n",
    "\n",
    "groverCircuit.measure(qr,cr)\n"
   ]
  },
  {
   "cell_type": "code",
   "execution_count": 22,
   "metadata": {},
   "outputs": [
    {
     "data": {
      "text/html": [
       "<pre style=\"word-wrap: normal;white-space: pre;line-height: 15px;\">         ┌───┐ ░        ░ ┌───┐┌───┐ ░                 ░ ┌───┐┌───┐ ░ ┌─┐      \n",
       "q0_0: |0>┤ H ├─░──■─────░─┤ H ├┤ X ├─░────────■────────░─┤ X ├┤ H ├─░─┤M├──────\n",
       "         ├───┤ ░  │     ░ ├───┤├───┤ ░        │        ░ ├───┤├───┤ ░ └╥┘┌─┐   \n",
       "q0_1: |0>┤ H ├─░──┼──■──░─┤ H ├┤ X ├─░────────■────────░─┤ X ├┤ H ├─░──╫─┤M├───\n",
       "         ├───┤ ░  │  │  ░ ├───┤├───┤ ░ ┌───┐┌─┴─┐┌───┐ ░ ├───┤├───┤ ░  ║ └╥┘┌─┐\n",
       "q0_2: |0>┤ H ├─░──■──■──░─┤ H ├┤ X ├─░─┤ H ├┤ X ├┤ H ├─░─┤ X ├┤ H ├─░──╫──╫─┤M├\n",
       "         └───┘ ░        ░ └───┘└───┘ ░ └───┘└───┘└───┘ ░ └───┘└───┘ ░  ║  ║ └╥┘\n",
       " c0_0: 0 ══════════════════════════════════════════════════════════════╩══╬══╬═\n",
       "                                                                          ║  ║ \n",
       " c0_1: 0 ═════════════════════════════════════════════════════════════════╩══╬═\n",
       "                                                                             ║ \n",
       " c0_2: 0 ════════════════════════════════════════════════════════════════════╩═\n",
       "                                                                               </pre>"
      ],
      "text/plain": [
       "<qiskit.visualization.text.TextDrawing at 0x1245220f0>"
      ]
     },
     "execution_count": 22,
     "metadata": {},
     "output_type": "execute_result"
    }
   ],
   "source": [
    "groverCircuit.draw()\n"
   ]
  },
  {
   "cell_type": "code",
   "execution_count": 23,
   "metadata": {},
   "outputs": [
    {
     "data": {
      "image/png": "[encoded data removed]",
      "text/plain": [
       "<Figure size 504x360 with 1 Axes>"
      ]
     },
     "execution_count": 23,
     "metadata": {},
     "output_type": "execute_result"
    }
   ],
   "source": [
    "backend = BasicAer.get_backend('qasm_simulator')\n",
    "shots = 1024\n",
    "results = execute(groverCircuit, backend=backend, shots=shots).result()\n",
    "answer = results.get_counts()\n",
    "plot_histogram(answer)\n"
   ]
  },
  {
   "cell_type": "code",
   "execution_count": null,
   "metadata": {},
   "outputs": [],
   "source": []
  },
  {
   "cell_type": "code",
   "execution_count": null,
   "metadata": {},
   "outputs": [],
   "source": []
  }
 ],
 "metadata": {
  "kernelspec": {
   "display_name": "Python 3",
   "language": "python",
   "name": "python3"
  },
  "language_info": {
   "codemirror_mode": {
    "name": "ipython",
    "version": 3
   },
   "file_extension": ".py",
   "mimetype": "text/x-python",
   "name": "python",
   "nbconvert_exporter": "python",
   "pygments_lexer": "ipython3",
   "version": "3.6.0"
  }
 },
 "nbformat": 4,
 "nbformat_minor": 2
}
