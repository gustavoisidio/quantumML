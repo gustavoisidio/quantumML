{
 "cells": [
  {
   "cell_type": "code",
   "execution_count": 16,
   "metadata": {},
   "outputs": [],
   "source": [
    "%matplotlib inline\n",
    "# Importing standard Qiskit libraries and configuring account\n",
    "import qiskit  \n",
    "# Loading your IBM Q account(s)\n",
    "from qiskit import ClassicalRegister, QuantumRegister, QuantumCircuit\n",
    "from qiskit.tools.visualization import circuit_drawer\n",
    "from qiskit import execute\n",
    "from qiskit import BasicAer as Aer\n",
    "from qiskit import IBMQ\n",
    "import numpy as np\n",
    "from qiskit.visualization import plot_histogram\n",
    "np.set_printoptions(precision=3, suppress=True)\n",
    "\n",
    "# provider = IBMQ.load_account()\n",
    "\n",
    "backend = Aer.get_backend('qasm_simulator')"
   ]
  },
  {
   "cell_type": "code",
   "execution_count": 17,
   "metadata": {
    "scrolled": true
   },
   "outputs": [
    {
     "data": {
      "text/html": [
       "<pre style=\"word-wrap: normal;white-space: pre;line-height: 15px;\">          ┌───┐ ░                      ░        ░ ┌───┐ ░ ┌─┐   \n",
       "q10_0: |0>┤ H ├─░───■────■─────────────░────────░─┤ H ├─░─┤M├───\n",
       "          ├───┤ ░   │    │             ░        ░ ├───┤ ░ └╥┘┌─┐\n",
       "q10_1: |0>┤ H ├─░───┼────┼────■────■───░────────░─┤ H ├─░──╫─┤M├\n",
       "          └───┘ ░ ┌─┴─┐  │  ┌─┴─┐  │   ░ ┌─┐    ░ └───┘ ░  ║ └╥┘\n",
       "q11_0: |0>──────░─┤ X ├──┼──┤ X ├──┼───░─┤M├────░───────░──╫──╫─\n",
       "                ░ └───┘┌─┴─┐└───┘┌─┴─┐ ░ └╥┘┌─┐ ░       ░  ║  ║ \n",
       "q11_1: |0>──────░──────┤ X ├─────┤ X ├─░──╫─┤M├─░───────░──╫──╫─\n",
       "                ░      └───┘     └───┘ ░  ║ └╥┘ ░       ░  ║  ║ \n",
       " c10_0: 0 ════════════════════════════════╩══╬═════════════╬══╬═\n",
       "                                             ║             ║  ║ \n",
       " c10_1: 0 ═══════════════════════════════════╩═════════════╬══╬═\n",
       "                                                           ║  ║ \n",
       " c11_0: 0 ═════════════════════════════════════════════════╩══╬═\n",
       "                                                              ║ \n",
       " c11_1: 0 ════════════════════════════════════════════════════╩═\n",
       "                                                                </pre>"
      ],
      "text/plain": [
       "<qiskit.visualization.text.TextDrawing at 0x127b7b0f0>"
      ]
     },
     "execution_count": 17,
     "metadata": {},
     "output_type": "execute_result"
    }
   ],
   "source": [
    "q1 = QuantumRegister(2)\n",
    "q2 = QuantumRegister(2)\n",
    "c1 = ClassicalRegister(2)\n",
    "c2 = ClassicalRegister(2)\n",
    "circuit = QuantumCircuit(q1, q2, c1, c2)\n",
    "\n",
    "circuit.h(q1)\n",
    "\n",
    "circuit.barrier()\n",
    "\n",
    "circuit.cx(q1[0], q2[0])\n",
    "circuit.cx(q1[0], q2[1])\n",
    "circuit.cx(q1[1], q2[0])\n",
    "circuit.cx(q1[1], q2[1])\n",
    "\n",
    "circuit.barrier()\n",
    "\n",
    "circuit.measure(q2,c1)\n",
    "\n",
    "circuit.barrier()\n",
    "\n",
    "circuit.h(q1)\n",
    "\n",
    "circuit.barrier()\n",
    "\n",
    "circuit.measure(q1,c2)\n",
    "\n",
    "circuit_drawer(circuit)"
   ]
  },
  {
   "cell_type": "code",
   "execution_count": 18,
   "metadata": {},
   "outputs": [
    {
     "name": "stdout",
     "output_type": "stream",
     "text": [
      "{'00 11': 20, '00 00': 30, '11 00': 24, '11 11': 26}\n"
     ]
    }
   ],
   "source": [
    "job = execute(circuit, backend, shots=100)\n",
    "result = job.result()\n",
    "counts = result.get_counts(circuit)\n",
    "print(counts)"
   ]
  },
  {
   "cell_type": "code",
   "execution_count": 19,
   "metadata": {
    "scrolled": true
   },
   "outputs": [
    {
     "data": {
      "image/png": "[encoded data removed]",
      "text/plain": [
       "<Figure size 504x360 with 1 Axes>"
      ]
     },
     "execution_count": 19,
     "metadata": {},
     "output_type": "execute_result"
    }
   ],
   "source": [
    "plot_histogram(counts)"
   ]
  },
  {
   "cell_type": "code",
   "execution_count": null,
   "metadata": {},
   "outputs": [],
   "source": []
  }
 ],
 "metadata": {
  "kernelspec": {
   "display_name": "Python 3",
   "language": "python",
   "name": "python3"
  },
  "language_info": {
   "codemirror_mode": {
    "name": "ipython",
    "version": 3
   },
   "file_extension": ".py",
   "mimetype": "text/x-python",
   "name": "python",
   "nbconvert_exporter": "python",
   "pygments_lexer": "ipython3",
   "version": "3.6.0"
  }
 },
 "nbformat": 4,
 "nbformat_minor": 2
}
